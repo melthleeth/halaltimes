{
  "nbformat": 4,
  "nbformat_minor": 0,
  "metadata": {
    "colab": {
      "name": "할랄가이드.ipynb",
      "provenance": [],
      "collapsed_sections": []
    },
    "kernelspec": {
      "name": "python3",
      "display_name": "Python 3"
    }
  },
  "cells": [
    {
      "cell_type": "markdown",
      "metadata": {
        "id": "7UW7IUgoz-xk"
      },
      "source": [
        "# skeleton"
      ]
    },
    {
      "cell_type": "code",
      "metadata": {
        "colab": {
          "base_uri": "https://localhost:8080/"
        },
        "id": "KvOajVqZw1WD",
        "outputId": "36f39a41-9796-43af-ef09-152549254d9b"
      },
      "source": [
        "from google.colab import drive\n",
        "drive.mount('/gdrive')"
      ],
      "execution_count": 67,
      "outputs": [
        {
          "output_type": "stream",
          "text": [
            "Mounted at /gdrive\n"
          ],
          "name": "stdout"
        }
      ]
    },
    {
      "cell_type": "code",
      "metadata": {
        "id": "QMtuayKdrf2e",
        "colab": {
          "base_uri": "https://localhost:8080/"
        },
        "outputId": "66471643-9ef8-4a3b-84a4-d99cc0d6f069"
      },
      "source": [
        "import json\n",
        "import pandas as pd\n",
        "import os\n",
        "\n",
        "DATA_FILE = \"/gdrive/MyDrive/Colab Notebooks/ssafy/data/data.json\"\n",
        "DUMP_FILE = \"/gdrive/MyDrive/Colab Notebooks/ssafy/data/dump.pkl\"\n",
        "\n",
        "store_columns = (\n",
        "    \"id\",  # 음식점 고유번호\n",
        "    \"store_name\",  # 음식점 이름\n",
        "    \"branch\",  # 음식점 지점 여부\n",
        "    \"area\",  # 음식점 위치\n",
        "    \"tel\",  # 음식점 번호\n",
        "    \"address\",  # 음식점 주소\n",
        "    \"latitude\",  # 음식점 위도\n",
        "    \"longitude\",  # 음식점 경도\n",
        "    \"category\",  # 음식점 카테고리\n",
        ")\n",
        "\n",
        "review_columns = (\n",
        "    \"id\",  # 리뷰 고유번호\n",
        "    \"store\",  # 음식점 고유번호\n",
        "    \"user\",  # 유저 고유번호\n",
        "    \"score\",  # 평점\n",
        "    \"content\",  # 리뷰 내용\n",
        "    \"reg_time\",  # 리뷰 등록 시간\n",
        ")\n",
        "\n",
        "menu_columns = (\n",
        "    \"id\",\n",
        "    \"store\",\n",
        "    \"menu_name\",\n",
        "    \"price\",\n",
        ")\n",
        "\n",
        "user_columns = (\n",
        "    \"id\",\n",
        "    \"gender\",\n",
        "    \"age\",\n",
        ")\n",
        "\n",
        "\n",
        "def import_data(data_path=DATA_FILE):\n",
        "    try:\n",
        "        with open(data_path, encoding=\"utf-8\") as f:\n",
        "            data = json.loads(f.read())\n",
        "    except FileNotFoundError as e:\n",
        "        print(f\"`{data_path}` 가 존재하지 않습니다.\")\n",
        "        exit(1)\n",
        "\n",
        "    stores = []  # 음식점 테이블\n",
        "    reviews = []  # 리뷰 테이블\n",
        "    menus = [] # 메뉴 테이블\n",
        "    users = [] # 유저 테이블\n",
        "    menu_id = 0\n",
        "\n",
        "    for d in data:\n",
        "        categories = [c[\"category\"] for c in d[\"category_list\"]]\n",
        "        stores.append(\n",
        "            [\n",
        "                d[\"id\"],\n",
        "                d[\"name\"],\n",
        "                d[\"branch\"],\n",
        "                d[\"area\"],\n",
        "                d[\"tel\"],\n",
        "                d[\"address\"],\n",
        "                d[\"latitude\"],\n",
        "                d[\"longitude\"],\n",
        "                \"|\".join(categories),\n",
        "            ]\n",
        "        )\n",
        "\n",
        "        for review in d[\"review_list\"]:\n",
        "            r = review[\"review_info\"]\n",
        "            u = review[\"writer_info\"]\n",
        "            user_age = 2021 - int(u[\"born_year\"]) + 1\n",
        "\n",
        "            reviews.append(\n",
        "                [r[\"id\"], d[\"id\"], u[\"id\"], r[\"score\"], r[\"content\"], r[\"reg_time\"]]\n",
        "            )\n",
        "            users.append(\n",
        "                [u[\"id\"], u[\"gender\"], user_age]\n",
        "            )\n",
        "\n",
        "        for menu in d[\"menu_list\"]:\n",
        "            menus.append(\n",
        "                [menu_id, d[\"id\"], menu[\"menu\"], menu[\"price\"]]\n",
        "            )\n",
        "            menu_id +=1\n",
        "\n",
        "    store_frame = pd.DataFrame(data=stores, columns=store_columns)\n",
        "    review_frame = pd.DataFrame(data=reviews, columns=review_columns)\n",
        "    memu_frame = pd.DataFrame(data=menus, columns=menu_columns)\n",
        "    user_frame = pd.DataFrame(data=users, columns=user_columns)\n",
        "\n",
        "    return {\"stores\": store_frame, \"reviews\": review_frame, \"menus\": memu_frame, \"users\":user_frame}\n",
        "\n",
        "\n",
        "def dump_dataframes(dataframes):\n",
        "    pd.to_pickle(dataframes, DUMP_FILE)\n",
        "\n",
        "\n",
        "def load_dataframes():\n",
        "    return pd.read_pickle(DUMP_FILE)\n",
        "\n",
        "\n",
        "print(\"[*] Parsing data...\")\n",
        "raw_data = import_data()\n",
        "print(\"[+] Done\")\n",
        "\n",
        "print(\"[*] Dumping data...\")\n",
        "dump_dataframes(raw_data)\n",
        "print(\"[+] Done\\n\")\n",
        "\n",
        "raw_data = load_dataframes()"
      ],
      "execution_count": 68,
      "outputs": [
        {
          "output_type": "stream",
          "text": [
            "[*] Parsing data...\n",
            "[+] Done\n",
            "[*] Dumping data...\n",
            "[+] Done\n",
            "\n"
          ],
          "name": "stdout"
        }
      ]
    },
    {
      "cell_type": "code",
      "metadata": {
        "colab": {
          "base_uri": "https://localhost:8080/"
        },
        "id": "IAN1UjV9SLDF",
        "outputId": "cb15a6e8-1ba3-4832-95f1-90a4187ef107"
      },
      "source": [
        "print(raw_data[\"stores\"].head())\n",
        "# print(data[\"reviews\"].head())\n",
        "# print(data[\"users\"].head())"
      ],
      "execution_count": 69,
      "outputs": [
        {
          "output_type": "stream",
          "text": [
            "   id     store_name branch  ...   latitude   longitude   category\n",
            "0   1           Agal   None  ...  37.556862  126.926666   아구찜|포장마차\n",
            "1   2         Assisy   None  ...  35.150746  126.890062         카페\n",
            "2   3  Battered Sole   None  ...  37.535032  126.991664    피쉬앤칩스|펍\n",
            "3   4      Chakyoung   None  ...  35.158587  129.175004  레스토랑|카프레제\n",
            "4   5       Delabobo   None  ...  37.559904  126.840512  디저트카페|디저트\n",
            "\n",
            "[5 rows x 9 columns]\n"
          ],
          "name": "stdout"
        }
      ]
    },
    {
      "cell_type": "markdown",
      "metadata": {
        "id": "RrJDiNJ30IE1"
      },
      "source": [
        "# 무슬림친화레스토랑"
      ]
    },
    {
      "cell_type": "code",
      "metadata": {
        "colab": {
          "base_uri": "https://localhost:8080/"
        },
        "id": "xFJm7tk4Ot_X",
        "outputId": "79b4d61a-8ec7-47a6-8bb4-2a87b473bf71"
      },
      "source": [
        "MUSLIM_PATH = '/content/drive/MyDrive/Colab Notebooks/ssafy/data/무슬림친화레스토랑.csv'\n",
        "CSV_MUSLIM_PATH = pd.read_csv(MUSLIM_PATH, engine='python', encoding='cp949')\n",
        "print(CSV_MUSLIM_PATH.head())"
      ],
      "execution_count": 61,
      "outputs": [
        {
          "output_type": "stream",
          "text": [
            "        레스토랑명     무슬림친화도  지역  ...      휴일 주차                관광지\n",
            "0       우스마니아  무슬림 자가 인증  서울  ...     NaN  X  국립중앙박물관, 이태원 쇼핑거리\n",
            "1   미스터케밥 2호점   할랄 공식 인증  서울  ...     NaN  X  국립중앙박물관, 이태원 쇼핑거리\n",
            "2       카파도키아  무슬림 자가 인증  부산  ...    연중무휴  O                범어사\n",
            "3     올리브레스토랑  무슬림 자가 인증  인천  ...     NaN  O            송도센트럴파크\n",
            "4  봄베이인도요리전문점   무슬림 프렌들리  경남  ...  매주 월요일  O          창원시립마산박물관\n",
            "\n",
            "[5 rows x 10 columns]\n"
          ],
          "name": "stdout"
        }
      ]
    },
    {
      "cell_type": "markdown",
      "metadata": {
        "id": "5nh8wqhbTYiG"
      },
      "source": [
        "# 중복값 확인\n"
      ]
    },
    {
      "cell_type": "code",
      "metadata": {
        "id": "Fhbe0LFFvmN3"
      },
      "source": [
        "store_table = raw_data[\"stores\"].copy()\n",
        "muslim_table = CSV_MUSLIM_PATH.copy()"
      ],
      "execution_count": 103,
      "outputs": []
    },
    {
      "cell_type": "code",
      "metadata": {
        "id": "csLpPXfjU0Or"
      },
      "source": [
        "# store_table['full_store_name'] = store_table[['store_name', 'branch']].apply(' '.join, axis=1)\n",
        "# store_table['full_store_name'] = store_table[\"store_name\"] + \" \" + store_table[\"branch\"]"
      ],
      "execution_count": 77,
      "outputs": []
    },
    {
      "cell_type": "code",
      "metadata": {
        "colab": {
          "base_uri": "https://localhost:8080/"
        },
        "id": "9qOfWkT0Vrm9",
        "outputId": "348b127e-ebac-4e41-8b67-8ee244cc45cf"
      },
      "source": [
        "print(store_table.head())"
      ],
      "execution_count": 80,
      "outputs": [
        {
          "output_type": "stream",
          "text": [
            "   id     store_name branch  ...   latitude   longitude   category\n",
            "0   1           Agal   None  ...  37.556862  126.926666   아구찜|포장마차\n",
            "1   2         Assisy   None  ...  35.150746  126.890062         카페\n",
            "2   3  Battered Sole   None  ...  37.535032  126.991664    피쉬앤칩스|펍\n",
            "3   4      Chakyoung   None  ...  35.158587  129.175004  레스토랑|카프레제\n",
            "4   5       Delabobo   None  ...  37.559904  126.840512  디저트카페|디저트\n",
            "\n",
            "[5 rows x 9 columns]\n"
          ],
          "name": "stdout"
        }
      ]
    },
    {
      "cell_type": "code",
      "metadata": {
        "colab": {
          "base_uri": "https://localhost:8080/",
          "height": 407
        },
        "id": "r-tKZq7_XVb1",
        "outputId": "70b40ce2-2700-405a-c955-59567817cfa8"
      },
      "source": [
        "store_table.drop_duplicates()"
      ],
      "execution_count": 104,
      "outputs": [
        {
          "output_type": "execute_result",
          "data": {
            "text/html": [
              "<div>\n",
              "<style scoped>\n",
              "    .dataframe tbody tr th:only-of-type {\n",
              "        vertical-align: middle;\n",
              "    }\n",
              "\n",
              "    .dataframe tbody tr th {\n",
              "        vertical-align: top;\n",
              "    }\n",
              "\n",
              "    .dataframe thead th {\n",
              "        text-align: right;\n",
              "    }\n",
              "</style>\n",
              "<table border=\"1\" class=\"dataframe\">\n",
              "  <thead>\n",
              "    <tr style=\"text-align: right;\">\n",
              "      <th></th>\n",
              "      <th>id</th>\n",
              "      <th>store_name</th>\n",
              "      <th>branch</th>\n",
              "      <th>area</th>\n",
              "      <th>tel</th>\n",
              "      <th>address</th>\n",
              "      <th>latitude</th>\n",
              "      <th>longitude</th>\n",
              "      <th>category</th>\n",
              "    </tr>\n",
              "  </thead>\n",
              "  <tbody>\n",
              "    <tr>\n",
              "      <th>0</th>\n",
              "      <td>1</td>\n",
              "      <td>Agal</td>\n",
              "      <td>None</td>\n",
              "      <td>홍대</td>\n",
              "      <td>010-6689-5886</td>\n",
              "      <td>서울특별시 마포구 동교동 170-13</td>\n",
              "      <td>37.556862</td>\n",
              "      <td>126.926666</td>\n",
              "      <td>아구찜|포장마차</td>\n",
              "    </tr>\n",
              "    <tr>\n",
              "      <th>1</th>\n",
              "      <td>2</td>\n",
              "      <td>Assisy</td>\n",
              "      <td>None</td>\n",
              "      <td>광주</td>\n",
              "      <td>062-367-0700</td>\n",
              "      <td>광주광역시 서구 농성동 631-33</td>\n",
              "      <td>35.150746</td>\n",
              "      <td>126.890062</td>\n",
              "      <td>카페</td>\n",
              "    </tr>\n",
              "    <tr>\n",
              "      <th>2</th>\n",
              "      <td>3</td>\n",
              "      <td>Battered Sole</td>\n",
              "      <td>None</td>\n",
              "      <td>이태원</td>\n",
              "      <td>02-749-6867</td>\n",
              "      <td>서울특별시 용산구 이태원동 118-9</td>\n",
              "      <td>37.535032</td>\n",
              "      <td>126.991664</td>\n",
              "      <td>피쉬앤칩스|펍</td>\n",
              "    </tr>\n",
              "    <tr>\n",
              "      <th>3</th>\n",
              "      <td>4</td>\n",
              "      <td>Chakyoung</td>\n",
              "      <td>None</td>\n",
              "      <td>달맞이길</td>\n",
              "      <td>051-756-5566</td>\n",
              "      <td>부산광역시 해운대구 중2동 1509-5</td>\n",
              "      <td>35.158587</td>\n",
              "      <td>129.175004</td>\n",
              "      <td>레스토랑|카프레제</td>\n",
              "    </tr>\n",
              "    <tr>\n",
              "      <th>4</th>\n",
              "      <td>5</td>\n",
              "      <td>Delabobo</td>\n",
              "      <td>None</td>\n",
              "      <td>발산역</td>\n",
              "      <td>02-2667-9854</td>\n",
              "      <td>서울특별시 강서구 등촌동 689</td>\n",
              "      <td>37.559904</td>\n",
              "      <td>126.840512</td>\n",
              "      <td>디저트카페|디저트</td>\n",
              "    </tr>\n",
              "    <tr>\n",
              "      <th>...</th>\n",
              "      <td>...</td>\n",
              "      <td>...</td>\n",
              "      <td>...</td>\n",
              "      <td>...</td>\n",
              "      <td>...</td>\n",
              "      <td>...</td>\n",
              "      <td>...</td>\n",
              "      <td>...</td>\n",
              "      <td>...</td>\n",
              "    </tr>\n",
              "    <tr>\n",
              "      <th>459983</th>\n",
              "      <td>459996</td>\n",
              "      <td>행복부대찌개</td>\n",
              "      <td>None</td>\n",
              "      <td>녹양동</td>\n",
              "      <td>031-877-2410</td>\n",
              "      <td>경기도 의정부시 녹양동 154-6</td>\n",
              "      <td>37.757939</td>\n",
              "      <td>127.032758</td>\n",
              "      <td></td>\n",
              "    </tr>\n",
              "    <tr>\n",
              "      <th>459984</th>\n",
              "      <td>459997</td>\n",
              "      <td>행복부페</td>\n",
              "      <td>None</td>\n",
              "      <td>안중읍</td>\n",
              "      <td>031-682-1733</td>\n",
              "      <td>경기도 평택시 안중읍 용성리 718-3</td>\n",
              "      <td>37.002743</td>\n",
              "      <td>126.944991</td>\n",
              "      <td></td>\n",
              "    </tr>\n",
              "    <tr>\n",
              "      <th>459985</th>\n",
              "      <td>459998</td>\n",
              "      <td>행복분식</td>\n",
              "      <td>None</td>\n",
              "      <td>퇴촌면</td>\n",
              "      <td>031-8071-2668</td>\n",
              "      <td>경기도 광주 퇴촌면 도수리 611-6</td>\n",
              "      <td>37.471677</td>\n",
              "      <td>127.315744</td>\n",
              "      <td></td>\n",
              "    </tr>\n",
              "    <tr>\n",
              "      <th>459986</th>\n",
              "      <td>459999</td>\n",
              "      <td>행복분식</td>\n",
              "      <td>None</td>\n",
              "      <td>소주동</td>\n",
              "      <td>055-312-3713</td>\n",
              "      <td>경상남도 양산시 소주동 147-1</td>\n",
              "      <td>35.407860</td>\n",
              "      <td>129.158564</td>\n",
              "      <td></td>\n",
              "    </tr>\n",
              "    <tr>\n",
              "      <th>459987</th>\n",
              "      <td>460000</td>\n",
              "      <td>행복분식</td>\n",
              "      <td>None</td>\n",
              "      <td>의정부동</td>\n",
              "      <td>031-772-6624</td>\n",
              "      <td>경기도 의정부시 의정부동 479-7</td>\n",
              "      <td>37.739845</td>\n",
              "      <td>127.038074</td>\n",
              "      <td></td>\n",
              "    </tr>\n",
              "  </tbody>\n",
              "</table>\n",
              "<p>459988 rows × 9 columns</p>\n",
              "</div>"
            ],
            "text/plain": [
              "            id     store_name branch  ...   latitude   longitude   category\n",
              "0            1           Agal   None  ...  37.556862  126.926666   아구찜|포장마차\n",
              "1            2         Assisy   None  ...  35.150746  126.890062         카페\n",
              "2            3  Battered Sole   None  ...  37.535032  126.991664    피쉬앤칩스|펍\n",
              "3            4      Chakyoung   None  ...  35.158587  129.175004  레스토랑|카프레제\n",
              "4            5       Delabobo   None  ...  37.559904  126.840512  디저트카페|디저트\n",
              "...        ...            ...    ...  ...        ...         ...        ...\n",
              "459983  459996         행복부대찌개   None  ...  37.757939  127.032758           \n",
              "459984  459997           행복부페   None  ...  37.002743  126.944991           \n",
              "459985  459998           행복분식   None  ...  37.471677  127.315744           \n",
              "459986  459999           행복분식   None  ...  35.407860  129.158564           \n",
              "459987  460000           행복분식   None  ...  37.739845  127.038074           \n",
              "\n",
              "[459988 rows x 9 columns]"
            ]
          },
          "metadata": {
            "tags": []
          },
          "execution_count": 104
        }
      ]
    },
    {
      "cell_type": "code",
      "metadata": {
        "colab": {
          "base_uri": "https://localhost:8080/"
        },
        "id": "8U6Lsd8ba1fV",
        "outputId": "1a682a21-7e1d-4e08-b176-80f400d945d8"
      },
      "source": [
        "store_table.columns"
      ],
      "execution_count": 105,
      "outputs": [
        {
          "output_type": "execute_result",
          "data": {
            "text/plain": [
              "Index(['id', 'store_name', 'branch', 'area', 'tel', 'address', 'latitude',\n",
              "       'longitude', 'category'],\n",
              "      dtype='object')"
            ]
          },
          "metadata": {
            "tags": []
          },
          "execution_count": 105
        }
      ]
    },
    {
      "cell_type": "code",
      "metadata": {
        "colab": {
          "base_uri": "https://localhost:8080/",
          "height": 319
        },
        "id": "tXFVNiOeZCiu",
        "outputId": "0c485352-28e6-4692-dcba-d5c47dbe9f18"
      },
      "source": [
        "muslim_table.columns = ['store_name', 'muslim_friendly', 'location_region', 'food_category', 'address', 'tel', 'working_time', 'days_closed','parking','tourism']\n",
        "muslim_table.head()"
      ],
      "execution_count": 106,
      "outputs": [
        {
          "output_type": "execute_result",
          "data": {
            "text/html": [
              "<div>\n",
              "<style scoped>\n",
              "    .dataframe tbody tr th:only-of-type {\n",
              "        vertical-align: middle;\n",
              "    }\n",
              "\n",
              "    .dataframe tbody tr th {\n",
              "        vertical-align: top;\n",
              "    }\n",
              "\n",
              "    .dataframe thead th {\n",
              "        text-align: right;\n",
              "    }\n",
              "</style>\n",
              "<table border=\"1\" class=\"dataframe\">\n",
              "  <thead>\n",
              "    <tr style=\"text-align: right;\">\n",
              "      <th></th>\n",
              "      <th>store_name</th>\n",
              "      <th>muslim_friendly</th>\n",
              "      <th>location_region</th>\n",
              "      <th>food_category</th>\n",
              "      <th>address</th>\n",
              "      <th>tel</th>\n",
              "      <th>working_time</th>\n",
              "      <th>days_closed</th>\n",
              "      <th>parking</th>\n",
              "      <th>tourism</th>\n",
              "    </tr>\n",
              "  </thead>\n",
              "  <tbody>\n",
              "    <tr>\n",
              "      <th>0</th>\n",
              "      <td>우스마니아</td>\n",
              "      <td>무슬림 자가 인증</td>\n",
              "      <td>서울</td>\n",
              "      <td>파키스탄음식</td>\n",
              "      <td>서울 용산구 우사단로 34</td>\n",
              "      <td>02-798-7155</td>\n",
              "      <td>11:00-22:00</td>\n",
              "      <td>NaN</td>\n",
              "      <td>X</td>\n",
              "      <td>국립중앙박물관, 이태원 쇼핑거리</td>\n",
              "    </tr>\n",
              "    <tr>\n",
              "      <th>1</th>\n",
              "      <td>미스터케밥 2호점</td>\n",
              "      <td>할랄 공식 인증</td>\n",
              "      <td>서울</td>\n",
              "      <td>터키음식</td>\n",
              "      <td>서울 용산구 우사단로 42</td>\n",
              "      <td>070-7532-1997</td>\n",
              "      <td>08:00-05:00</td>\n",
              "      <td>NaN</td>\n",
              "      <td>X</td>\n",
              "      <td>국립중앙박물관, 이태원 쇼핑거리</td>\n",
              "    </tr>\n",
              "    <tr>\n",
              "      <th>2</th>\n",
              "      <td>카파도키아</td>\n",
              "      <td>무슬림 자가 인증</td>\n",
              "      <td>부산</td>\n",
              "      <td>터키음식</td>\n",
              "      <td>부산 금정구 금단로 123-9</td>\n",
              "      <td>051-515-5981</td>\n",
              "      <td>11:30-22:00</td>\n",
              "      <td>연중무휴</td>\n",
              "      <td>O</td>\n",
              "      <td>범어사</td>\n",
              "    </tr>\n",
              "    <tr>\n",
              "      <th>3</th>\n",
              "      <td>올리브레스토랑</td>\n",
              "      <td>무슬림 자가 인증</td>\n",
              "      <td>인천</td>\n",
              "      <td>아랍음식</td>\n",
              "      <td>인천 연수구 옥련로 31</td>\n",
              "      <td>032-874-2800</td>\n",
              "      <td>10.30-22:00</td>\n",
              "      <td>NaN</td>\n",
              "      <td>O</td>\n",
              "      <td>송도센트럴파크</td>\n",
              "    </tr>\n",
              "    <tr>\n",
              "      <th>4</th>\n",
              "      <td>봄베이인도요리전문점</td>\n",
              "      <td>무슬림 프렌들리</td>\n",
              "      <td>경남</td>\n",
              "      <td>인도음식</td>\n",
              "      <td>경남 창원시 성산구 용지로 74</td>\n",
              "      <td>055-263-4111</td>\n",
              "      <td>11:30-22:00(브레이크 타임 15:00-17:00, 주말에는 브레이크 타임 없음)</td>\n",
              "      <td>매주 월요일</td>\n",
              "      <td>O</td>\n",
              "      <td>창원시립마산박물관</td>\n",
              "    </tr>\n",
              "  </tbody>\n",
              "</table>\n",
              "</div>"
            ],
            "text/plain": [
              "   store_name muslim_friendly  ... parking            tourism\n",
              "0       우스마니아       무슬림 자가 인증  ...       X  국립중앙박물관, 이태원 쇼핑거리\n",
              "1   미스터케밥 2호점        할랄 공식 인증  ...       X  국립중앙박물관, 이태원 쇼핑거리\n",
              "2       카파도키아       무슬림 자가 인증  ...       O                범어사\n",
              "3     올리브레스토랑       무슬림 자가 인증  ...       O            송도센트럴파크\n",
              "4  봄베이인도요리전문점        무슬림 프렌들리  ...       O          창원시립마산박물관\n",
              "\n",
              "[5 rows x 10 columns]"
            ]
          },
          "metadata": {
            "tags": []
          },
          "execution_count": 106
        }
      ]
    },
    {
      "cell_type": "code",
      "metadata": {
        "colab": {
          "base_uri": "https://localhost:8080/"
        },
        "id": "jKaf63ACYE_E",
        "outputId": "5a370286-f36b-4355-b394-c0d8cd5afe88"
      },
      "source": [
        "df_merge = pd.merge(muslim_table, store_table, on='store_name', how='left')\n",
        "print(df_merge)"
      ],
      "execution_count": 108,
      "outputs": [
        {
          "output_type": "stream",
          "text": [
            "     store_name muslim_friendly  ...   longitude  category\n",
            "0         우스마니아       무슬림 자가 인증  ...  126.995705        인도\n",
            "1     미스터케밥 2호점        할랄 공식 인증  ...         NaN       NaN\n",
            "2         카파도키아       무슬림 자가 인증  ...  129.092210    터키|이슬람\n",
            "3       올리브레스토랑       무슬림 자가 인증  ...  128.872874          \n",
            "4    봄베이인도요리전문점        무슬림 프렌들리  ...         NaN       NaN\n",
            "..          ...             ...  ...         ...       ...\n",
            "972       카사블랑카        무슬림 프렌들리  ...  126.987046  모로코|샌드위치\n",
            "973       카사블랑카        무슬림 프렌들리  ...  128.612449          \n",
            "974       카사블랑카        무슬림 프렌들리  ...  128.423302          \n",
            "975       카사블랑카        무슬림 프렌들리  ...  127.029000  모로코|샌드위치\n",
            "976      카페 다스티        할랄 공식 인증  ...         NaN       NaN\n",
            "\n",
            "[977 rows x 18 columns]\n"
          ],
          "name": "stdout"
        }
      ]
    },
    {
      "cell_type": "code",
      "metadata": {
        "colab": {
          "base_uri": "https://localhost:8080/"
        },
        "id": "TVnvtIpzcJyN",
        "outputId": "b8e9a52a-a4ba-4e71-e403-e6969817c37c"
      },
      "source": [
        "df_merge.drop_duplicates(\"store_name\", inplace=True)\n",
        "print(df_merge.shape)"
      ],
      "execution_count": 114,
      "outputs": [
        {
          "output_type": "stream",
          "text": [
            "(345, 18)\n"
          ],
          "name": "stdout"
        }
      ]
    },
    {
      "cell_type": "code",
      "metadata": {
        "colab": {
          "base_uri": "https://localhost:8080/"
        },
        "id": "j5XE4RTtcL2a",
        "outputId": "991149f8-f370-46c6-dc38-ddd5261efa45"
      },
      "source": [
        "print(muslim_table.shape)"
      ],
      "execution_count": 115,
      "outputs": [
        {
          "output_type": "stream",
          "text": [
            "(347, 10)\n"
          ],
          "name": "stdout"
        }
      ]
    },
    {
      "cell_type": "code",
      "metadata": {
        "colab": {
          "base_uri": "https://localhost:8080/"
        },
        "id": "JKV4pWvre58o",
        "outputId": "e36c1c2b-fde5-4162-c9bf-81f63b18d696"
      },
      "source": [
        "df_merge.info()"
      ],
      "execution_count": 116,
      "outputs": [
        {
          "output_type": "stream",
          "text": [
            "<class 'pandas.core.frame.DataFrame'>\n",
            "Int64Index: 345 entries, 0 to 976\n",
            "Data columns (total 18 columns):\n",
            " #   Column           Non-Null Count  Dtype  \n",
            "---  ------           --------------  -----  \n",
            " 0   store_name       345 non-null    object \n",
            " 1   muslim_friendly  345 non-null    object \n",
            " 2   location_region  345 non-null    object \n",
            " 3   food_category    288 non-null    object \n",
            " 4   address_x        345 non-null    object \n",
            " 5   tel_x            345 non-null    object \n",
            " 6   working_time     345 non-null    object \n",
            " 7   days_closed      222 non-null    object \n",
            " 8   parking          345 non-null    object \n",
            " 9   tourism          345 non-null    object \n",
            " 10  id               141 non-null    float64\n",
            " 11  branch           11 non-null     object \n",
            " 12  area             139 non-null    object \n",
            " 13  tel_y            140 non-null    object \n",
            " 14  address_y        141 non-null    object \n",
            " 15  latitude         141 non-null    object \n",
            " 16  longitude        141 non-null    object \n",
            " 17  category         141 non-null    object \n",
            "dtypes: float64(1), object(17)\n",
            "memory usage: 51.2+ KB\n"
          ],
          "name": "stdout"
        }
      ]
    },
    {
      "cell_type": "code",
      "metadata": {
        "colab": {
          "base_uri": "https://localhost:8080/"
        },
        "id": "FSKqYcjEfI4C",
        "outputId": "d08e64ee-24e6-4176-ceca-fc0fcad67deb"
      },
      "source": [
        "345-141"
      ],
      "execution_count": 117,
      "outputs": [
        {
          "output_type": "execute_result",
          "data": {
            "text/plain": [
              "204"
            ]
          },
          "metadata": {
            "tags": []
          },
          "execution_count": 117
        }
      ]
    }
  ]
}